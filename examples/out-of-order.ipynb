{
  "cells": [
    {
      "cell_type": "markdown",
      "source": [
        "# The Convex Hull Problem"
      ],
      "metadata": {
        "button": false,
        "deletable": true,
        "new_sheet": false,
        "run_control": {
          "read_only": false
        }
      }
    },
    {
      "cell_type": "markdown",
      "source": [
        "Pound a bunch of nails into a board, then stretch a rubber band around them and let the rubber band snap taut, like this:\n",
        "\n",
        "<img src=\"http://www.personal.kent.edu/~rmuhamma/Compgeometry/MyCG/Gifs-CompGeometry/ch2.gif\">\n",
        "\n",
        "The rubber band has traced out the *convex hull* of the set of nails. It turns out this is an important problem with applications in computer graphics, robot motion planning, geographical information systems, ethology, and other areas.\n",
        "More formally, we say that:\n",
        "\n",
        "*Given a finite set, **P**, of points in a plane, the convex hull of **P** is a polygon, **H**, such that:*\n",
        "\n",
        "- *Every point in **P** lies either on or inside of **H**.*\n",
        "- *Every vertex of **H** is a point in **P**.*\n",
        "- **H** *is convex: a line segment joining any two vertexes of **H** either is an edge of **H** or lies inside **H**.*\n",
        "\n\n",
        "In this notebook we develop an algorithm to find the convex hull (and show examples of how to use `matplotlib` plotting). The first thing to do is decide how we will represent the objects of interest:\n",
        "\n",
        "- **Point**: We'll define a class such that `Point(3, 4)` is a point where `p.x` is 3 and `p.y` is 4.\n",
        "- **Set of Points**: We'll use a Python set: `{Point(0,0), Point(3,4), ...}`\n",
        "- **Polygon**: We'll represent a polygon as an ordered list of vertex points.\n",
        "\nFirst, get the necessary imports done:"
      ],
      "metadata": {
        "button": false,
        "deletable": true,
        "new_sheet": false,
        "run_control": {
          "read_only": false
        }
      }
    },
    {
      "cell_type": "code",
      "source": [
        "from __future__ import division, print_function\n",
        "\n",
        "%matplotlib inline \n",
        "import matplotlib.pyplot as plt\n",
        "import collections\n",
        "import random\n",
        "import math"
      ],
      "outputs": [],
      "execution_count": 2,
      "metadata": {
        "button": false,
        "collapsed": false,
        "deletable": true,
        "new_sheet": false,
        "run_control": {
          "read_only": false
        }
      }
    },
    {
      "cell_type": "markdown",
      "source": [
        "# Points and Sets of Points\n",
        "\n",
        "I'll define the class `Point` as a named tuple of `x` and `y` coordinates, and `Points(n)` as a function that creates a set of *n* random points. \n",
        "\n",
        "There are two complications to the function `Points(n)`:\n",
        "1. A second optional argument is used to set the random seed.  This way, the same call to `Points` will return the same result each time.  That makes it easier to reproduce tests.  If you want different sets of points, just pass in different values for the seed.\n",
        "2. Since `matplotlib` plots on a 3&times;2 rectangle by default, the points will be uniformly sampled   from a 3&times;2 box (with a small border of 0.05 on each edge to prevent the points from bumping up against the edge of the box)."
      ],
      "metadata": {
        "button": false,
        "deletable": true,
        "new_sheet": false,
        "run_control": {
          "read_only": false
        }
      }
    },
    {
      "cell_type": "code",
      "source": [
        "Point = collections.namedtuple('Point', 'x, y')\n",
        "\n",
        "def Points(n, seed=42):\n",
        "    \"Generate n random points within a 3 x 2 box.\"\n",
        "    random.seed((n, seed))\n",
        "    b = 0.05 # border\n",
        "    return {Point(random.uniform(b, 3-b), random.uniform(b, 2-b)) \n",
        "            for _ in range(n)}"
      ],
      "outputs": [],
      "execution_count": 2,
      "metadata": {
        "button": false,
        "collapsed": false,
        "deletable": true,
        "new_sheet": false,
        "run_control": {
          "read_only": false
        }
      }
    },
    {
      "cell_type": "code",
      "source": [
        "Points(3)"
      ],
      "outputs": [
        {
          "output_type": "execute_result",
          "execution_count": 3,
          "data": {
            "text/plain": [
              "{Point(x=0.15172583449638682, y=1.6108693392839208),\n",
              " Point(x=0.968326330695687, y=1.3139550880088586),\n",
              " Point(x=1.3508070075242857, y=0.22290610532132638)}"
            ]
          },
          "metadata": {}
        }
      ],
      "execution_count": 3,
      "metadata": {
        "button": false,
        "collapsed": false,
        "deletable": true,
        "new_sheet": false,
        "run_control": {
          "read_only": false
        }
      }
    },
    {
      "cell_type": "markdown",
      "source": [
        "# Visualizing Points and Line Segments\n",
        "\n\n",
        "Now let's see how to visualize points; I'll define a function `plot_points`.  We will want to be able to see:\n",
        "- The **points** themselves. \n",
        "- Optionally, **line segments** between points. An optional `style` parameter allows you to specify whether you want lines or not, and what color they should be. This parameter uses the standard [style format](http://matplotlib.org/1.3.1/api/pyplot_api.html#matplotlib.pyplot.plot) defined by matplotlib; for example, `'r.'` means red colored dots with no lines, `'bs-'` means blue colored squares with lines between them, and `'go:'` means green colored circles with dotted lines between them.  The lines go from point to point in order; if you want the lines to close\n",
        "back from the last point to the first (to form a complete polygon), specify `closed=True`. (For that to work,\n",
        "the collection of points must be a list; with `closed=False` the collection can be any collection.)\n",
        "- Optionally, **labels** on the points that let us distinguish one from another. You get\n",
        "labels (integers from 0 to *n*) if you specify `labels=True`."
      ],
      "metadata": {
        "button": false,
        "deletable": true,
        "new_sheet": false,
        "run_control": {
          "read_only": false
        }
      }
    },
    {
      "cell_type": "code",
      "source": [
        "def plot_points(points, style='r.', labels=False, closed=False): \n",
        "    \"\"\"Plot a collection of points. Optionally change the line style, label points with numbers, \n",
        "    and/or form a closed polygon by closing the line from the last point to the first.\"\"\"\n",
        "    if labels:\n",
        "        for (i, (x, y)) in enumerate(points):\n",
        "            plt.text(x, y, '  '+str(i))\n",
        "    if closed:\n",
        "        points = points + [points[0]]\n",
        "    plt.plot([p.x for p in points], [p.y for p in points], style, linewidth=2.5)\n",
        "    plt.axis('scaled'); plt.axis('off')"
      ],
      "outputs": [],
      "execution_count": 4,
      "metadata": {
        "button": false,
        "collapsed": false,
        "deletable": true,
        "new_sheet": false,
        "run_control": {
          "read_only": false
        }
      }
    }
  ],
  "metadata": {
    "kernelspec": {
      "display_name": "Python 3",
      "language": "python",
      "name": "python3"
    },
    "language_info": {
      "codemirror_mode": {
        "name": "ipython",
        "version": 3
      },
      "file_extension": ".py",
      "mimetype": "text/x-python",
      "name": "python",
      "nbconvert_exporter": "python",
      "pygments_lexer": "ipython3",
      "version": "3.5.1"
    },
    "nteract": {
      "version": "0.12.2"
    }
  },
  "nbformat": 4,
  "nbformat_minor": 0
}
